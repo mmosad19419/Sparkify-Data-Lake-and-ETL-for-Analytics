{
 "cells": [
  {
   "cell_type": "markdown",
   "id": "bb0c7d7b-83bd-4784-950d-d75ac6a7ea21",
   "metadata": {},
   "source": [
    "# Sparkify Data Lake ETL Pipeline for Analytics"
   ]
  },
  {
   "cell_type": "markdown",
   "id": "1f5b1559-7731-4104-96ca-a54a44c8b76f",
   "metadata": {},
   "source": [
    "## Project Introduction\n",
    "A music streaming startup, __Sparkify__, has grown its user base and song database even more and wants to move its data warehouse to a data lake. Their data resides in S3, in a directory of JSON logs on user activity on the app, as well as a directory with JSON metadata on the songs in their app.\n",
    "\n",
    "I am tasked with building an ETL pipeline that extracts their data from S3, processes them using Spark, and loads the data back into S3 as a set of dimensional tables. This will allow their analytics team to continue finding insights about what songs their users are listening to.\n",
    "\n",
    "I'll be able to test my database and ETL pipeline by running queries given to you by the analytics team from Sparkify and compare my results with their expected results."
   ]
  },
  {
   "cell_type": "code",
   "execution_count": 16,
   "id": "proved-plenty",
   "metadata": {
    "ExecuteTime": {
     "end_time": "2023-05-06T05:58:20.517221Z",
     "start_time": "2023-05-06T05:58:20.495913Z"
    }
   },
   "outputs": [],
   "source": [
    "# import libs\n",
    "import os\n",
    "import glob\n",
    "import pandas as pd\n",
    "from datetime import *"
   ]
  },
  {
   "cell_type": "code",
   "execution_count": 17,
   "id": "fcb23403-8b30-4a1b-8dee-9e60c883b53b",
   "metadata": {
    "ExecuteTime": {
     "end_time": "2023-05-06T05:59:57.411679Z",
     "start_time": "2023-05-06T05:59:57.293191Z"
    },
    "execution": {
     "iopub.execute_input": "2023-05-01T13:25:19.393299Z",
     "iopub.status.busy": "2023-05-01T13:25:19.392921Z",
     "iopub.status.idle": "2023-05-01T13:25:19.749417Z",
     "shell.execute_reply": "2023-05-01T13:25:19.747912Z",
     "shell.execute_reply.started": "2023-05-01T13:25:19.393267Z"
    },
    "tags": []
   },
   "outputs": [],
   "source": [
    "# spark imports and configurations\n",
    "from pyspark.sql import SparkSession\n",
    "from pyspark.sql import functions as F\n",
    "from pyspark.sql.types import * "
   ]
  },
  {
   "cell_type": "code",
   "execution_count": 3,
   "id": "c609e133-97a3-4ddd-b244-338f07c1c8a7",
   "metadata": {
    "ExecuteTime": {
     "end_time": "2023-05-06T05:55:50.805786Z",
     "start_time": "2023-05-06T05:55:20.992642Z"
    },
    "execution": {
     "iopub.execute_input": "2023-05-01T13:27:16.867710Z",
     "iopub.status.busy": "2023-05-01T13:27:16.867367Z",
     "iopub.status.idle": "2023-05-01T13:27:17.869377Z",
     "shell.execute_reply": "2023-05-01T13:27:17.867616Z",
     "shell.execute_reply.started": "2023-05-01T13:27:16.867682Z"
    },
    "tags": []
   },
   "outputs": [],
   "source": [
    "spark = SparkSession.builder \\\n",
    "        .master(\"local\") \\\n",
    "        .appName(\"Spakify-ETL\") \\\n",
    "        .getOrCreate()"
   ]
  },
  {
   "cell_type": "code",
   "execution_count": 4,
   "id": "20a1c39a-0333-4175-a39c-1b4ceaf78777",
   "metadata": {
    "ExecuteTime": {
     "end_time": "2023-05-06T05:55:51.120141Z",
     "start_time": "2023-05-06T05:55:50.811280Z"
    },
    "execution": {
     "iopub.execute_input": "2023-05-01T13:33:07.530237Z",
     "iopub.status.busy": "2023-05-01T13:33:07.529832Z",
     "iopub.status.idle": "2023-05-01T13:33:07.824760Z",
     "shell.execute_reply": "2023-05-01T13:33:07.823189Z",
     "shell.execute_reply.started": "2023-05-01T13:33:07.530206Z"
    },
    "tags": []
   },
   "outputs": [],
   "source": [
    "# import data\n",
    "logs_data = []\n",
    "songs_data = []\n",
    "\n",
    "for root, dir, files in os.walk(\"./datasets/log_data\"):\n",
    "    files = glob.glob(os.path.join(root, \"*.json\"))\n",
    "    \n",
    "    for f in files :\n",
    "        logs_data.append(os.path.abspath(f))\n",
    "\n",
    "for root, dir, files in os.walk(\"./datasets/song_data\"):\n",
    "    files = glob.glob(os.path.join(root, \"*.json\"))\n",
    "    \n",
    "    for f in files :\n",
    "        songs_data.append(os.path.abspath(f))"
   ]
  },
  {
   "cell_type": "code",
   "execution_count": 5,
   "id": "aquatic-ultimate",
   "metadata": {
    "ExecuteTime": {
     "end_time": "2023-05-06T05:55:51.140262Z",
     "start_time": "2023-05-06T05:55:51.126618Z"
    }
   },
   "outputs": [
    {
     "name": "stdout",
     "output_type": "stream",
     "text": [
      "30\n"
     ]
    }
   ],
   "source": [
    "print(len(logs_data))"
   ]
  },
  {
   "cell_type": "code",
   "execution_count": 6,
   "id": "weekly-laundry",
   "metadata": {
    "ExecuteTime": {
     "end_time": "2023-05-06T05:55:51.180798Z",
     "start_time": "2023-05-06T05:55:51.146480Z"
    }
   },
   "outputs": [
    {
     "name": "stdout",
     "output_type": "stream",
     "text": [
      "71\n"
     ]
    }
   ],
   "source": [
    "print(len(songs_data))"
   ]
  },
  {
   "cell_type": "markdown",
   "id": "tested-string",
   "metadata": {
    "execution": {
     "iopub.execute_input": "2023-05-01T13:32:47.544031Z",
     "iopub.status.busy": "2023-05-01T13:32:47.543691Z",
     "iopub.status.idle": "2023-05-01T13:32:47.918124Z",
     "shell.execute_reply": "2023-05-01T13:32:47.916156Z",
     "shell.execute_reply.started": "2023-05-01T13:32:47.543995Z"
    }
   },
   "source": [
    "## Process Log Data"
   ]
  },
  {
   "cell_type": "code",
   "execution_count": 7,
   "id": "1ac316d9-58a9-4d3f-ba91-469d57d8d671",
   "metadata": {
    "ExecuteTime": {
     "end_time": "2023-05-06T05:56:03.347196Z",
     "start_time": "2023-05-06T05:55:51.195604Z"
    }
   },
   "outputs": [],
   "source": [
    "log_data = spark.read.json(logs_data[0])"
   ]
  },
  {
   "cell_type": "code",
   "execution_count": 8,
   "id": "worthy-consortium",
   "metadata": {
    "ExecuteTime": {
     "end_time": "2023-05-06T05:56:09.981076Z",
     "start_time": "2023-05-06T05:56:09.862952Z"
    }
   },
   "outputs": [
    {
     "name": "stdout",
     "output_type": "stream",
     "text": [
      "root\n",
      " |-- artist: string (nullable = true)\n",
      " |-- auth: string (nullable = true)\n",
      " |-- firstName: string (nullable = true)\n",
      " |-- gender: string (nullable = true)\n",
      " |-- itemInSession: long (nullable = true)\n",
      " |-- lastName: string (nullable = true)\n",
      " |-- length: double (nullable = true)\n",
      " |-- level: string (nullable = true)\n",
      " |-- location: string (nullable = true)\n",
      " |-- method: string (nullable = true)\n",
      " |-- page: string (nullable = true)\n",
      " |-- registration: double (nullable = true)\n",
      " |-- sessionId: long (nullable = true)\n",
      " |-- song: string (nullable = true)\n",
      " |-- status: long (nullable = true)\n",
      " |-- ts: long (nullable = true)\n",
      " |-- userAgent: string (nullable = true)\n",
      " |-- userId: string (nullable = true)\n",
      "\n"
     ]
    }
   ],
   "source": [
    "log_data.printSchema()"
   ]
  },
  {
   "cell_type": "code",
   "execution_count": 33,
   "id": "horizontal-island",
   "metadata": {
    "ExecuteTime": {
     "end_time": "2023-05-06T06:05:19.872686Z",
     "start_time": "2023-05-06T06:05:16.829033Z"
    }
   },
   "outputs": [
    {
     "data": {
      "text/plain": [
       "[Row(artist='Infected Mushroom', auth='Logged In', firstName='Kaylee', gender='F', itemInSession=6, lastName='Summers', length=440.2673, level='free', location='Phoenix-Mesa-Scottsdale, AZ', method='PUT', page='NextSong', registration=1540344794796.0, sessionId=139, song='Becoming Insane', status=200, ts=1541107053796, userAgent='\"Mozilla/5.0 (Windows NT 6.1; WOW64) AppleWebKit/537.36 (KHTML, like Gecko) Chrome/35.0.1916.153 Safari/537.36\"', userId='8', datetime=datetime.datetime(2018, 11, 1, 22, 17, 33, 796000), datetimeUDF=datetime.datetime(2018, 11, 1, 21, 17, 33, 796000)),\n",
       " Row(artist='Girl Talk', auth='Logged In', firstName='Kaylee', gender='F', itemInSession=8, lastName='Summers', length=160.15628, level='free', location='Phoenix-Mesa-Scottsdale, AZ', method='PUT', page='NextSong', registration=1540344794796.0, sessionId=139, song='Once again', status=200, ts=1541107734796, userAgent='\"Mozilla/5.0 (Windows NT 6.1; WOW64) AppleWebKit/537.36 (KHTML, like Gecko) Chrome/35.0.1916.153 Safari/537.36\"', userId='8', datetime=datetime.datetime(2018, 11, 1, 22, 28, 54, 796000), datetimeUDF=datetime.datetime(2018, 11, 1, 21, 28, 54, 796000))]"
      ]
     },
     "execution_count": 33,
     "metadata": {},
     "output_type": "execute_result"
    }
   ],
   "source": [
    "log_data.head(2)"
   ]
  },
  {
   "cell_type": "code",
   "execution_count": 10,
   "id": "incorporate-screw",
   "metadata": {
    "ExecuteTime": {
     "end_time": "2023-05-06T05:56:18.161004Z",
     "start_time": "2023-05-06T05:56:17.859937Z"
    }
   },
   "outputs": [],
   "source": [
    "log_data = log_data.filter(log_data.page == \"NextSong\")"
   ]
  },
  {
   "cell_type": "code",
   "execution_count": 11,
   "id": "solar-recruitment",
   "metadata": {
    "ExecuteTime": {
     "end_time": "2023-05-06T05:56:19.955430Z",
     "start_time": "2023-05-06T05:56:19.869279Z"
    }
   },
   "outputs": [],
   "source": [
    "log_data = log_data.drop_duplicates()"
   ]
  },
  {
   "cell_type": "code",
   "execution_count": 12,
   "id": "noble-hardware",
   "metadata": {
    "ExecuteTime": {
     "end_time": "2023-05-06T05:56:21.042999Z",
     "start_time": "2023-05-06T05:56:20.836068Z"
    }
   },
   "outputs": [],
   "source": [
    "log_data = log_data.na.drop()"
   ]
  },
  {
   "cell_type": "code",
   "execution_count": 27,
   "id": "random-router",
   "metadata": {
    "ExecuteTime": {
     "end_time": "2023-05-06T06:04:15.140865Z",
     "start_time": "2023-05-06T06:04:15.129182Z"
    }
   },
   "outputs": [],
   "source": [
    "# udf to convert millsecond ts to timestamp format\n",
    "timestamp_udf = F.udf(lambda x : datetime.utcfromtimestamp(int(x) / 1000), TimestampType())"
   ]
  },
  {
   "cell_type": "code",
   "execution_count": 28,
   "id": "upset-aerospace",
   "metadata": {
    "ExecuteTime": {
     "end_time": "2023-05-06T06:04:16.527815Z",
     "start_time": "2023-05-06T06:04:16.385705Z"
    }
   },
   "outputs": [],
   "source": [
    "log_data = log_data.withColumn(\"datetimeUDF\", timestamp_udf(F.col(\"ts\")))"
   ]
  },
  {
   "cell_type": "code",
   "execution_count": 29,
   "id": "consistent-drunk",
   "metadata": {
    "ExecuteTime": {
     "end_time": "2023-05-06T06:04:17.135243Z",
     "start_time": "2023-05-06T06:04:16.792018Z"
    }
   },
   "outputs": [],
   "source": [
    "# convert Time stamp\n",
    "datetimeFormat = \"MM:dd:yy HH:mm:ss.SSS\"\n",
    "log_data = log_data.withColumn(\"datetime\", F.to_timestamp(F.col(\"ts\") / 1000))"
   ]
  },
  {
   "cell_type": "code",
   "execution_count": 30,
   "id": "whole-eight",
   "metadata": {
    "ExecuteTime": {
     "end_time": "2023-05-06T06:04:18.988646Z",
     "start_time": "2023-05-06T06:04:18.969047Z"
    }
   },
   "outputs": [
    {
     "name": "stdout",
     "output_type": "stream",
     "text": [
      "root\n",
      " |-- artist: string (nullable = true)\n",
      " |-- auth: string (nullable = true)\n",
      " |-- firstName: string (nullable = true)\n",
      " |-- gender: string (nullable = true)\n",
      " |-- itemInSession: long (nullable = true)\n",
      " |-- lastName: string (nullable = true)\n",
      " |-- length: double (nullable = true)\n",
      " |-- level: string (nullable = true)\n",
      " |-- location: string (nullable = true)\n",
      " |-- method: string (nullable = true)\n",
      " |-- page: string (nullable = true)\n",
      " |-- registration: double (nullable = true)\n",
      " |-- sessionId: long (nullable = true)\n",
      " |-- song: string (nullable = true)\n",
      " |-- status: long (nullable = true)\n",
      " |-- ts: long (nullable = true)\n",
      " |-- userAgent: string (nullable = true)\n",
      " |-- userId: string (nullable = true)\n",
      " |-- datetime: timestamp (nullable = true)\n",
      " |-- datetimeUDF: timestamp (nullable = true)\n",
      "\n"
     ]
    }
   ],
   "source": [
    "log_data.printSchema()"
   ]
  },
  {
   "cell_type": "code",
   "execution_count": 31,
   "id": "given-august",
   "metadata": {
    "ExecuteTime": {
     "end_time": "2023-05-06T06:04:39.724041Z",
     "start_time": "2023-05-06T06:04:20.429026Z"
    }
   },
   "outputs": [
    {
     "data": {
      "text/plain": [
       "[Row(datetimeUDF=datetime.datetime(2018, 11, 1, 21, 17, 33, 796000)),\n",
       " Row(datetimeUDF=datetime.datetime(2018, 11, 1, 21, 28, 54, 796000)),\n",
       " Row(datetimeUDF=datetime.datetime(2018, 11, 1, 22, 23, 14, 796000)),\n",
       " Row(datetimeUDF=datetime.datetime(2018, 11, 1, 21, 42, 0, 796000)),\n",
       " Row(datetimeUDF=datetime.datetime(2018, 11, 1, 21, 11, 13, 796000))]"
      ]
     },
     "execution_count": 31,
     "metadata": {},
     "output_type": "execute_result"
    }
   ],
   "source": [
    "log_data.select(\"datetimeUDF\").head(5)"
   ]
  },
  {
   "cell_type": "code",
   "execution_count": 32,
   "id": "billion-boating",
   "metadata": {
    "ExecuteTime": {
     "end_time": "2023-05-06T06:04:43.259641Z",
     "start_time": "2023-05-06T06:04:39.727383Z"
    }
   },
   "outputs": [
    {
     "data": {
      "text/plain": [
       "[Row(datetime=datetime.datetime(2018, 11, 1, 22, 17, 33, 796000)),\n",
       " Row(datetime=datetime.datetime(2018, 11, 1, 22, 28, 54, 796000)),\n",
       " Row(datetime=datetime.datetime(2018, 11, 1, 23, 23, 14, 796000)),\n",
       " Row(datetime=datetime.datetime(2018, 11, 1, 22, 42, 0, 796000)),\n",
       " Row(datetime=datetime.datetime(2018, 11, 1, 22, 11, 13, 796000))]"
      ]
     },
     "execution_count": 32,
     "metadata": {},
     "output_type": "execute_result"
    }
   ],
   "source": [
    "log_data.select(\"datetime\").head(5)"
   ]
  },
  {
   "cell_type": "code",
   "execution_count": 35,
   "id": "blind-defendant",
   "metadata": {
    "ExecuteTime": {
     "end_time": "2023-05-06T06:09:10.321669Z",
     "start_time": "2023-05-06T06:09:09.818967Z"
    }
   },
   "outputs": [],
   "source": [
    "log_data = log_data.withColumn(\"year\", F.year(\"datetime\"))\n",
    "log_data = log_data.withColumn(\"month\", F.month(\"datetime\"))\n",
    "log_data = log_data.withColumn(\"weekofyear\", F.weekofyear(\"datetime\"))\n",
    "log_data = log_data.withColumn(\"day\", F.dayofmonth(\"datetime\"))\n",
    "log_data = log_data.withColumn(\"hour\", F.hour(\"datetime\"))\n",
    "log_data = log_data.withColumn(\"weekday\", F.dayofweek(\"datetime\"))"
   ]
  },
  {
   "cell_type": "code",
   "execution_count": 38,
   "id": "artificial-olive",
   "metadata": {
    "ExecuteTime": {
     "end_time": "2023-05-06T06:12:07.117502Z",
     "start_time": "2023-05-06T06:11:50.436915Z"
    }
   },
   "outputs": [
    {
     "data": {
      "text/html": [
       "<div>\n",
       "<style scoped>\n",
       "    .dataframe tbody tr th:only-of-type {\n",
       "        vertical-align: middle;\n",
       "    }\n",
       "\n",
       "    .dataframe tbody tr th {\n",
       "        vertical-align: top;\n",
       "    }\n",
       "\n",
       "    .dataframe thead th {\n",
       "        text-align: right;\n",
       "    }\n",
       "</style>\n",
       "<table border=\"1\" class=\"dataframe\">\n",
       "  <thead>\n",
       "    <tr style=\"text-align: right;\">\n",
       "      <th></th>\n",
       "      <th>artist</th>\n",
       "      <th>auth</th>\n",
       "      <th>firstName</th>\n",
       "      <th>gender</th>\n",
       "      <th>itemInSession</th>\n",
       "      <th>lastName</th>\n",
       "      <th>length</th>\n",
       "      <th>level</th>\n",
       "      <th>location</th>\n",
       "      <th>method</th>\n",
       "      <th>...</th>\n",
       "      <th>userAgent</th>\n",
       "      <th>userId</th>\n",
       "      <th>datetime</th>\n",
       "      <th>datetimeUDF</th>\n",
       "      <th>year</th>\n",
       "      <th>month</th>\n",
       "      <th>weekofyear</th>\n",
       "      <th>day</th>\n",
       "      <th>hour</th>\n",
       "      <th>weekday</th>\n",
       "    </tr>\n",
       "  </thead>\n",
       "  <tbody>\n",
       "    <tr>\n",
       "      <th>0</th>\n",
       "      <td>Infected Mushroom</td>\n",
       "      <td>Logged In</td>\n",
       "      <td>Kaylee</td>\n",
       "      <td>F</td>\n",
       "      <td>6</td>\n",
       "      <td>Summers</td>\n",
       "      <td>440.26730</td>\n",
       "      <td>free</td>\n",
       "      <td>Phoenix-Mesa-Scottsdale, AZ</td>\n",
       "      <td>PUT</td>\n",
       "      <td>...</td>\n",
       "      <td>\"Mozilla/5.0 (Windows NT 6.1; WOW64) AppleWebK...</td>\n",
       "      <td>8</td>\n",
       "      <td>2018-11-01 22:17:33.796</td>\n",
       "      <td>2018-11-01 21:17:33.796</td>\n",
       "      <td>2018</td>\n",
       "      <td>11</td>\n",
       "      <td>44</td>\n",
       "      <td>1</td>\n",
       "      <td>22</td>\n",
       "      <td>5</td>\n",
       "    </tr>\n",
       "    <tr>\n",
       "      <th>1</th>\n",
       "      <td>Girl Talk</td>\n",
       "      <td>Logged In</td>\n",
       "      <td>Kaylee</td>\n",
       "      <td>F</td>\n",
       "      <td>8</td>\n",
       "      <td>Summers</td>\n",
       "      <td>160.15628</td>\n",
       "      <td>free</td>\n",
       "      <td>Phoenix-Mesa-Scottsdale, AZ</td>\n",
       "      <td>PUT</td>\n",
       "      <td>...</td>\n",
       "      <td>\"Mozilla/5.0 (Windows NT 6.1; WOW64) AppleWebK...</td>\n",
       "      <td>8</td>\n",
       "      <td>2018-11-01 22:28:54.796</td>\n",
       "      <td>2018-11-01 21:28:54.796</td>\n",
       "      <td>2018</td>\n",
       "      <td>11</td>\n",
       "      <td>44</td>\n",
       "      <td>1</td>\n",
       "      <td>22</td>\n",
       "      <td>5</td>\n",
       "    </tr>\n",
       "    <tr>\n",
       "      <th>2</th>\n",
       "      <td>Survivor</td>\n",
       "      <td>Logged In</td>\n",
       "      <td>Jayden</td>\n",
       "      <td>M</td>\n",
       "      <td>0</td>\n",
       "      <td>Fox</td>\n",
       "      <td>245.36771</td>\n",
       "      <td>free</td>\n",
       "      <td>New Orleans-Metairie, LA</td>\n",
       "      <td>PUT</td>\n",
       "      <td>...</td>\n",
       "      <td>\"Mozilla/5.0 (Windows NT 6.3; WOW64) AppleWebK...</td>\n",
       "      <td>101</td>\n",
       "      <td>2018-11-01 23:23:14.796</td>\n",
       "      <td>2018-11-01 22:23:14.796</td>\n",
       "      <td>2018</td>\n",
       "      <td>11</td>\n",
       "      <td>44</td>\n",
       "      <td>1</td>\n",
       "      <td>23</td>\n",
       "      <td>5</td>\n",
       "    </tr>\n",
       "    <tr>\n",
       "      <th>3</th>\n",
       "      <td>Black Eyed Peas</td>\n",
       "      <td>Logged In</td>\n",
       "      <td>Sylvie</td>\n",
       "      <td>F</td>\n",
       "      <td>0</td>\n",
       "      <td>Cruz</td>\n",
       "      <td>214.93506</td>\n",
       "      <td>free</td>\n",
       "      <td>Washington-Arlington-Alexandria, DC-VA-MD-WV</td>\n",
       "      <td>PUT</td>\n",
       "      <td>...</td>\n",
       "      <td>\"Mozilla/5.0 (Macintosh; Intel Mac OS X 10_9_4...</td>\n",
       "      <td>10</td>\n",
       "      <td>2018-11-01 22:42:00.796</td>\n",
       "      <td>2018-11-01 21:42:00.796</td>\n",
       "      <td>2018</td>\n",
       "      <td>11</td>\n",
       "      <td>44</td>\n",
       "      <td>1</td>\n",
       "      <td>22</td>\n",
       "      <td>5</td>\n",
       "    </tr>\n",
       "    <tr>\n",
       "      <th>4</th>\n",
       "      <td>The Mars Volta</td>\n",
       "      <td>Logged In</td>\n",
       "      <td>Kaylee</td>\n",
       "      <td>F</td>\n",
       "      <td>5</td>\n",
       "      <td>Summers</td>\n",
       "      <td>380.42077</td>\n",
       "      <td>free</td>\n",
       "      <td>Phoenix-Mesa-Scottsdale, AZ</td>\n",
       "      <td>PUT</td>\n",
       "      <td>...</td>\n",
       "      <td>\"Mozilla/5.0 (Windows NT 6.1; WOW64) AppleWebK...</td>\n",
       "      <td>8</td>\n",
       "      <td>2018-11-01 22:11:13.796</td>\n",
       "      <td>2018-11-01 21:11:13.796</td>\n",
       "      <td>2018</td>\n",
       "      <td>11</td>\n",
       "      <td>44</td>\n",
       "      <td>1</td>\n",
       "      <td>22</td>\n",
       "      <td>5</td>\n",
       "    </tr>\n",
       "  </tbody>\n",
       "</table>\n",
       "<p>5 rows × 26 columns</p>\n",
       "</div>"
      ],
      "text/plain": [
       "              artist       auth firstName gender  itemInSession lastName  \\\n",
       "0  Infected Mushroom  Logged In    Kaylee      F              6  Summers   \n",
       "1          Girl Talk  Logged In    Kaylee      F              8  Summers   \n",
       "2           Survivor  Logged In    Jayden      M              0      Fox   \n",
       "3    Black Eyed Peas  Logged In    Sylvie      F              0     Cruz   \n",
       "4     The Mars Volta  Logged In    Kaylee      F              5  Summers   \n",
       "\n",
       "      length level                                      location method  ...  \\\n",
       "0  440.26730  free                   Phoenix-Mesa-Scottsdale, AZ    PUT  ...   \n",
       "1  160.15628  free                   Phoenix-Mesa-Scottsdale, AZ    PUT  ...   \n",
       "2  245.36771  free                      New Orleans-Metairie, LA    PUT  ...   \n",
       "3  214.93506  free  Washington-Arlington-Alexandria, DC-VA-MD-WV    PUT  ...   \n",
       "4  380.42077  free                   Phoenix-Mesa-Scottsdale, AZ    PUT  ...   \n",
       "\n",
       "                                           userAgent  userId  \\\n",
       "0  \"Mozilla/5.0 (Windows NT 6.1; WOW64) AppleWebK...       8   \n",
       "1  \"Mozilla/5.0 (Windows NT 6.1; WOW64) AppleWebK...       8   \n",
       "2  \"Mozilla/5.0 (Windows NT 6.3; WOW64) AppleWebK...     101   \n",
       "3  \"Mozilla/5.0 (Macintosh; Intel Mac OS X 10_9_4...      10   \n",
       "4  \"Mozilla/5.0 (Windows NT 6.1; WOW64) AppleWebK...       8   \n",
       "\n",
       "                 datetime             datetimeUDF  year  month weekofyear day  \\\n",
       "0 2018-11-01 22:17:33.796 2018-11-01 21:17:33.796  2018     11         44   1   \n",
       "1 2018-11-01 22:28:54.796 2018-11-01 21:28:54.796  2018     11         44   1   \n",
       "2 2018-11-01 23:23:14.796 2018-11-01 22:23:14.796  2018     11         44   1   \n",
       "3 2018-11-01 22:42:00.796 2018-11-01 21:42:00.796  2018     11         44   1   \n",
       "4 2018-11-01 22:11:13.796 2018-11-01 21:11:13.796  2018     11         44   1   \n",
       "\n",
       "  hour weekday  \n",
       "0   22       5  \n",
       "1   22       5  \n",
       "2   23       5  \n",
       "3   22       5  \n",
       "4   22       5  \n",
       "\n",
       "[5 rows x 26 columns]"
      ]
     },
     "execution_count": 38,
     "metadata": {},
     "output_type": "execute_result"
    }
   ],
   "source": [
    "log_data.limit(5).toPandas()"
   ]
  },
  {
   "cell_type": "markdown",
   "id": "korean-deposit",
   "metadata": {},
   "source": [
    "## Process Song files"
   ]
  },
  {
   "cell_type": "code",
   "execution_count": 39,
   "id": "loving-northeast",
   "metadata": {
    "ExecuteTime": {
     "end_time": "2023-05-06T06:13:04.762291Z",
     "start_time": "2023-05-06T06:13:03.928954Z"
    }
   },
   "outputs": [],
   "source": [
    "song_df = spark.read.json(songs_data[0])"
   ]
  },
  {
   "cell_type": "code",
   "execution_count": 40,
   "id": "racial-saint",
   "metadata": {
    "ExecuteTime": {
     "end_time": "2023-05-06T06:13:07.045662Z",
     "start_time": "2023-05-06T06:13:06.630406Z"
    }
   },
   "outputs": [
    {
     "data": {
      "text/plain": [
       "[Row(artist_id='ARD7TVE1187B99BFB1', artist_latitude=None, artist_location='California - LA', artist_longitude=None, artist_name='Casual', duration=218.93179, num_songs=1, song_id='SOMZWCG12A8C13C480', title=\"I Didn't Mean To\", year=0)]"
      ]
     },
     "execution_count": 40,
     "metadata": {},
     "output_type": "execute_result"
    }
   ],
   "source": [
    "song_df.head(5)"
   ]
  },
  {
   "cell_type": "code",
   "execution_count": 41,
   "id": "temporal-credits",
   "metadata": {
    "ExecuteTime": {
     "end_time": "2023-05-06T06:14:11.339339Z",
     "start_time": "2023-05-06T06:14:11.243398Z"
    }
   },
   "outputs": [],
   "source": [
    "song_df = song_df.na.drop()\n",
    "song_df = song_df.drop_duplicates()"
   ]
  },
  {
   "cell_type": "markdown",
   "id": "russian-store",
   "metadata": {},
   "source": [
    "## Selecting Tables and Write to Parquet"
   ]
  },
  {
   "cell_type": "code",
   "execution_count": 42,
   "id": "sought-range",
   "metadata": {
    "ExecuteTime": {
     "end_time": "2023-05-06T06:16:27.629818Z",
     "start_time": "2023-05-06T06:16:26.065749Z"
    }
   },
   "outputs": [],
   "source": [
    "song_table = song_df.select(\"song_id\", \"title\", \"artist_id\", \"year\", \"duration\")"
   ]
  },
  {
   "cell_type": "code",
   "execution_count": 51,
   "id": "impressed-devon",
   "metadata": {
    "ExecuteTime": {
     "end_time": "2023-05-06T06:28:54.342738Z",
     "start_time": "2023-05-06T06:28:49.271897Z"
    }
   },
   "outputs": [],
   "source": [
    "song_table.write.mode(\"overwrite\").partitionBy(\"year\", \"song_id\").parquet(\"analytical tables/songs_table\") "
   ]
  },
  {
   "cell_type": "code",
   "execution_count": 53,
   "id": "serial-baseline",
   "metadata": {
    "ExecuteTime": {
     "end_time": "2023-05-06T06:29:49.684216Z",
     "start_time": "2023-05-06T06:29:49.639572Z"
    }
   },
   "outputs": [],
   "source": [
    "artist_table = song_df.select(\"artist_id\", \"artist_name\", \"artist_location\", \"artist_latitude\", \"artist_longitude\")"
   ]
  },
  {
   "cell_type": "code",
   "execution_count": 54,
   "id": "worldwide-processing",
   "metadata": {
    "ExecuteTime": {
     "end_time": "2023-05-06T06:29:59.004945Z",
     "start_time": "2023-05-06T06:29:54.281854Z"
    }
   },
   "outputs": [],
   "source": [
    "artist_table.write.parquet(\"analytical tables/artisttable\", mode = \"overwrite\", partitionBy=[\"artist_id\", \"artist_name\"])"
   ]
  },
  {
   "cell_type": "code",
   "execution_count": 55,
   "id": "enhanced-shaft",
   "metadata": {
    "ExecuteTime": {
     "end_time": "2023-05-06T06:31:50.332845Z",
     "start_time": "2023-05-06T06:31:50.279119Z"
    }
   },
   "outputs": [],
   "source": [
    "users_table = log_data.select(\"userid\", \"firstName\", \"lastName\", \"gender\", \"level\")"
   ]
  },
  {
   "cell_type": "code",
   "execution_count": 57,
   "id": "southeast-diving",
   "metadata": {
    "ExecuteTime": {
     "end_time": "2023-05-06T06:32:52.125102Z",
     "start_time": "2023-05-06T06:32:39.389822Z"
    }
   },
   "outputs": [],
   "source": [
    "users_table.write.parquet(\"analytical tables/userstable\", mode = \"overwrite\", partitionBy=[\"userid\", \"firstName\"])"
   ]
  },
  {
   "cell_type": "code",
   "execution_count": 58,
   "id": "sophisticated-criticism",
   "metadata": {
    "ExecuteTime": {
     "end_time": "2023-05-06T06:34:11.158340Z",
     "start_time": "2023-05-06T06:34:11.085563Z"
    }
   },
   "outputs": [],
   "source": [
    "time_table = log_data.select(\"ts\", \"datetime\", \"year\", \"month\", \"weekofyear\", \"day\", \"weekday\", \"hour\")"
   ]
  },
  {
   "cell_type": "code",
   "execution_count": 59,
   "id": "understood-newcastle",
   "metadata": {
    "ExecuteTime": {
     "end_time": "2023-05-06T06:34:50.745613Z",
     "start_time": "2023-05-06T06:34:39.961929Z"
    }
   },
   "outputs": [],
   "source": [
    "time_table.write.parquet(\"analytical tables/timetable\", mode = \"overwrite\", partitionBy=[\"year\", \"month\"])"
   ]
  },
  {
   "cell_type": "code",
   "execution_count": 63,
   "id": "continued-trial",
   "metadata": {
    "ExecuteTime": {
     "end_time": "2023-05-06T06:41:36.415878Z",
     "start_time": "2023-05-06T06:41:36.322850Z"
    }
   },
   "outputs": [],
   "source": [
    "songsplay_table = log_data.join(song_df, log_data.song == song_df.title, how = \"inner\")\\\n",
    "                .select(F.monotonically_increasing_id().alias(\"songsplay_id\"), F.col(\"datetime\").alias(\"start_time\"), F.col(\"userid\").alias(\"user_id\"),\"level\",\"song_id\",\"artist_id\", F.col(\"sessionId\").alias(\"session_id\"), \"location\", F.col(\"userAgent\").alias(\"user_agent\"))"
   ]
  },
  {
   "cell_type": "code",
   "execution_count": 64,
   "id": "ordinary-spectacular",
   "metadata": {
    "ExecuteTime": {
     "end_time": "2023-05-06T06:42:37.129984Z",
     "start_time": "2023-05-06T06:42:30.347537Z"
    }
   },
   "outputs": [],
   "source": [
    "songsplay_table.write.parquet(\"analytical tables/songsplaytable\", mode = \"overwrite\", partitionBy=[\"location\", \"songsplay_id\"])"
   ]
  }
 ],
 "metadata": {
  "kernelspec": {
   "display_name": "Python 3",
   "language": "python",
   "name": "python3"
  },
  "language_info": {
   "codemirror_mode": {
    "name": "ipython",
    "version": 3
   },
   "file_extension": ".py",
   "mimetype": "text/x-python",
   "name": "python",
   "nbconvert_exporter": "python",
   "pygments_lexer": "ipython3",
   "version": "3.11.2"
  },
  "toc": {
   "base_numbering": 1,
   "nav_menu": {},
   "number_sections": true,
   "sideBar": true,
   "skip_h1_title": false,
   "title_cell": "Table of Contents",
   "title_sidebar": "Contents",
   "toc_cell": false,
   "toc_position": {},
   "toc_section_display": true,
   "toc_window_display": false
  }
 },
 "nbformat": 4,
 "nbformat_minor": 5
}
